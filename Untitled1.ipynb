{
  "nbformat": 4,
  "nbformat_minor": 0,
  "metadata": {
    "colab": {
      "name": "Untitled1.ipynb",
      "provenance": [],
      "collapsed_sections": [],
      "authorship_tag": "ABX9TyNplZ9xl0bA/zc6bguW4Sov",
      "include_colab_link": true
    },
    "kernelspec": {
      "name": "python3",
      "display_name": "Python 3"
    },
    "language_info": {
      "name": "python"
    }
  },
  "cells": [
    {
      "cell_type": "markdown",
      "metadata": {
        "id": "view-in-github",
        "colab_type": "text"
      },
      "source": [
        "<a href=\"https://colab.research.google.com/github/priyanka0201/Leetcode/blob/main/Untitled1.ipynb\" target=\"_parent\"><img src=\"https://colab.research.google.com/assets/colab-badge.svg\" alt=\"Open In Colab\"/></a>"
      ]
    },
    {
      "cell_type": "code",
      "execution_count": 1,
      "metadata": {
        "colab": {
          "base_uri": "https://localhost:8080/"
        },
        "id": "NSqaLE51bjCR",
        "outputId": "8bdc73f8-aeee-48df-c922-82e3f5f02b91"
      },
      "outputs": [
        {
          "output_type": "stream",
          "name": "stdout",
          "text": [
            "Requirement already satisfied: tweepy in /usr/local/lib/python3.7/dist-packages (3.10.0)\n",
            "Requirement already satisfied: requests-oauthlib>=0.7.0 in /usr/local/lib/python3.7/dist-packages (from tweepy) (1.3.1)\n",
            "Requirement already satisfied: six>=1.10.0 in /usr/local/lib/python3.7/dist-packages (from tweepy) (1.15.0)\n",
            "Requirement already satisfied: requests[socks]>=2.11.1 in /usr/local/lib/python3.7/dist-packages (from tweepy) (2.23.0)\n",
            "Requirement already satisfied: oauthlib>=3.0.0 in /usr/local/lib/python3.7/dist-packages (from requests-oauthlib>=0.7.0->tweepy) (3.2.0)\n",
            "Requirement already satisfied: chardet<4,>=3.0.2 in /usr/local/lib/python3.7/dist-packages (from requests[socks]>=2.11.1->tweepy) (3.0.4)\n",
            "Requirement already satisfied: urllib3!=1.25.0,!=1.25.1,<1.26,>=1.21.1 in /usr/local/lib/python3.7/dist-packages (from requests[socks]>=2.11.1->tweepy) (1.24.3)\n",
            "Requirement already satisfied: idna<3,>=2.5 in /usr/local/lib/python3.7/dist-packages (from requests[socks]>=2.11.1->tweepy) (2.10)\n",
            "Requirement already satisfied: certifi>=2017.4.17 in /usr/local/lib/python3.7/dist-packages (from requests[socks]>=2.11.1->tweepy) (2021.10.8)\n",
            "Requirement already satisfied: PySocks!=1.5.7,>=1.5.6 in /usr/local/lib/python3.7/dist-packages (from requests[socks]>=2.11.1->tweepy) (1.7.1)\n"
          ]
        }
      ],
      "source": [
        "pip install tweepy\n"
      ]
    },
    {
      "cell_type": "code",
      "source": [
        "import tweepy\n",
        "consumer_key=\"c3BXaUUUhBzzU6sj3X9FFPcS7\"\n",
        "consumer_secret=\"jK0QJM6pBhsFyZVbnEHDQXEqWoIIwpjGTM1Mde51Hn3xDhOisM\"\n",
        "access_token=\"1499059351121973249-3GLkHziOszGlSr5NUzQxfbPRMUJdCy\"\n",
        "access_token_secret=\"N7sDenK0cWvaNRE1VwtBMR19seVDDm5b57kDwqOHJDkml\"\n",
        "\n",
        "auth = tweepy.OAuthHandler(consumer_key,consumer_secret)\n",
        "auth.set_access_token(access_token,access_token_secret)\n",
        "\n",
        "api = tweepy.API(auth)\n",
        "\n",
        "public_tweets = api.home_timeline()\n",
        "\n",
        "count=0\n",
        "\n",
        "for tweet in public_tweets:\n",
        "    count=count+1\n",
        "    print(\"tweet #\"+str(count)+\"\\n\")\n",
        "    print(tweet.text)\n",
        "    print(\"-------------------------------------------------------------------\")"
      ],
      "metadata": {
        "colab": {
          "base_uri": "https://localhost:8080/"
        },
        "id": "IJBg8a_GjYKr",
        "outputId": "65060e85-21ba-4a28-db29-c6fec76d35a3"
      },
      "execution_count": 7,
      "outputs": [
        {
          "output_type": "stream",
          "name": "stdout",
          "text": [
            "tweet #1\n",
            "\n",
            "ABP Ganga पर साक्षात्कार... https://t.co/mI0KDaS6c6\n",
            "-------------------------------------------------------------------\n",
            "tweet #2\n",
            "\n",
            "उत्तर प्रदेश में सुरक्षा का बेहतरीन माहौल दिया गया है...\n",
            "\n",
            "आधी आबादी यानी माताओं ने, बहनों ने, बेटियों ने मुक्त कंठ… https://t.co/wYoivKJNNd\n",
            "-------------------------------------------------------------------\n",
            "tweet #3\n",
            "\n",
            "देखिए जनता जनार्दन उन्हें इस लायक छोड़ेगी ही नहीं कि वह कहीं हिसाब किताब लायक रहें https://t.co/xW4U9H3gTQ\n",
            "-------------------------------------------------------------------\n",
            "tweet #4\n",
            "\n",
            "RT @myogioffice: जब जनता-जनार्दन का आशीर्वाद नहीं मिल रहा है तो EVM पर दोष मढ़ने का प्रयास कर रहे हैं: मुख्यमंत्री श्री @myogiadityanath जी…\n",
            "-------------------------------------------------------------------\n",
            "tweet #5\n",
            "\n",
            "RT @myogioffice: जो लोग रामभक्तों पर गोली चलाते हों, अब उन लोगों से भगवा के सम्मान की उम्मीद करते हैं?\n",
            "\n",
            "- मुख्यमंत्री श्री @myogiadityanath…\n",
            "-------------------------------------------------------------------\n",
            "tweet #6\n",
            "\n",
            "RT @myogioffice: हर वह व्यक्ति जो समाज विरोधी है, राष्ट्र विरोधी गतिविधियों में प्रत्यक्ष-अप्रत्यक्ष रूप से लिप्त है, समाज की सुरक्षा के लि…\n",
            "-------------------------------------------------------------------\n",
            "tweet #7\n",
            "\n",
            "RT @myogioffice: हमने 5 साल के अंदर जो किया, जनता-जनार्दन ने, खास तौर पर माताओं ने, बेटियों ने और नौजवानों ने खुले हृदय से Appreciate किया…\n",
            "-------------------------------------------------------------------\n",
            "tweet #8\n",
            "\n",
            "RT @myogioffice: ...महिला हो, बेटी हो, बहन हो, सबने एक स्वर से भारतीय जनता पार्टी के पक्ष में कमल के फूल को अपना वोट दिया है: मुख्यमंत्री…\n",
            "-------------------------------------------------------------------\n",
            "tweet #9\n",
            "\n",
            "...भारतीय जनता पार्टी की सरकार ये कार्य कर रही है https://t.co/rr3MSf8qMa\n",
            "-------------------------------------------------------------------\n",
            "tweet #10\n",
            "\n",
            "...अगर सुधरे नहीं तो व्यवस्था उनको स्वयं सुधार देगी https://t.co/lhQCHaXj63\n",
            "-------------------------------------------------------------------\n",
            "tweet #11\n",
            "\n",
            "Enjoy Endless Enigma of Deccan Queen!\n",
            "\n",
            "Offering picturesque views, Mumbai-Pune Route on the Western Ghats is a trav… https://t.co/pqACxAL8T3\n",
            "-------------------------------------------------------------------\n",
            "tweet #12\n",
            "\n",
            "भारतीय रेल ने हमेशा नारी शक्ति का सम्मान किया है।\n",
            "\n",
            "इसी दिशा में भारतीय रेल द्वारा दृढनिश्चय और आत्मविश्वास की प्रती… https://t.co/icXGJHY9H4\n",
            "-------------------------------------------------------------------\n",
            "tweet #13\n",
            "\n",
            "Well deserved victory for #TeamIndia in ICC Women's World Cup #CWC22.\n",
            "Indian Team outplayed Pakistan in their openi… https://t.co/Ti4Qyya4Er\n",
            "-------------------------------------------------------------------\n",
            "tweet #14\n",
            "\n",
            "Congratulations on an emphatic victory 🇮🇳!\n",
            "\n",
            "#INDvSL https://t.co/Ysz0WMgk3S\n",
            "-------------------------------------------------------------------\n",
            "tweet #15\n",
            "\n",
            "यूपी सम्पर्क क्रांति में सफर के दौरान एक महिला यात्री को प्रसव पीड़ा हुई और ट्रेन में ही बच्चे को जन्म दिया।\n",
            "\n",
            "आरपीए… https://t.co/0sQbzAN5p2\n",
            "-------------------------------------------------------------------\n",
            "tweet #16\n",
            "\n",
            "Fantastic landmark, @ashwinravi99!\n",
            "\n",
            "To go past @therealkapildev paaji is an achievement in itself. \n",
            "\n",
            "The way you we… https://t.co/vGKlUJoXwJ\n",
            "-------------------------------------------------------------------\n",
            "tweet #17\n",
            "\n",
            "आप चाहे जिस किसी फील्ड में हों, जिस तरह आप अपने career के लिए goals set करते हैं, उसी तरह आपके कुछ goals देश के लिए… https://t.co/qiSy35Rt8g\n",
            "-------------------------------------------------------------------\n",
            "tweet #18\n",
            "\n",
            "आज देश में जो सरकार है, वो देश के युवाओं के सामर्थ्य पर, आपके सामर्थ्य पर भरोसा करती है।\n",
            "\n",
            "इसलिए हम एक के बाद एक से… https://t.co/MkEEqILnSg\n",
            "-------------------------------------------------------------------\n",
            "tweet #19\n",
            "\n",
            "Mobile manufacturing में भारत दुनिया का दूसरा सबसे बड़ा देश बनकर उभरा है।\n",
            "\n",
            "सात साल पहले भारत में सिर्फ 2 मोबाइल मै… https://t.co/2b5KHcNUYl\n",
            "-------------------------------------------------------------------\n",
            "tweet #20\n",
            "\n",
            "आपकी जेनेरेशन एक तरह से खुशनसीब है कि उसे पहले वाली defensive और dependent psychology का नुकसान नहीं उठाना पड़ा।… https://t.co/DvKqgSw4Oa\n",
            "-------------------------------------------------------------------\n"
          ]
        }
      ]
    }
  ]
}